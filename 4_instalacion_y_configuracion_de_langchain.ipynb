{
  "nbformat": 4,
  "nbformat_minor": 0,
  "metadata": {
    "colab": {
      "provenance": []
    },
    "kernelspec": {
      "name": "python3",
      "display_name": "Python 3"
    },
    "language_info": {
      "name": "python"
    }
  },
  "cells": [
    {
      "cell_type": "markdown",
      "source": [
        "# Instalación"
      ],
      "metadata": {
        "id": "a3rdnjeuALBk"
      }
    },
    {
      "cell_type": "code",
      "execution_count": null,
      "metadata": {
        "id": "ZZAu-LzaAHJr"
      },
      "outputs": [],
      "source": [
        "pip install langchain-google-genai"
      ]
    },
    {
      "cell_type": "code",
      "source": [
        "import os\n",
        "from getpass import getpass\n",
        "\n",
        "os.environ['GOOGLE_API_KEY'] = getpass('API_KEY: ')"
      ],
      "metadata": {
        "id": "Qko0XcVLAJQo"
      },
      "execution_count": null,
      "outputs": []
    },
    {
      "cell_type": "code",
      "source": [
        "from langchain_google_genai import GoogleGenerativeAI"
      ],
      "metadata": {
        "id": "vd2YbTUtAN8r"
      },
      "execution_count": null,
      "outputs": []
    },
    {
      "cell_type": "code",
      "source": [
        "import getpass\n",
        "import os\n",
        "\n",
        "if \"OPENAI_API_KEY\" not in os.environ:\n",
        "    os.environ[\"OPENAI_API_KEY\"] = getpass.getpass(\"Enter your OpenAI API key: \")"
      ],
      "metadata": {
        "id": "jTfQpLojAPV4"
      },
      "execution_count": null,
      "outputs": []
    },
    {
      "cell_type": "markdown",
      "source": [
        "# DB"
      ],
      "metadata": {
        "id": "eTu_NOEYAlt2"
      }
    },
    {
      "cell_type": "code",
      "source": [
        "!pip install chromadb pinecone"
      ],
      "metadata": {
        "id": "EV4LIHWVAlfB"
      },
      "execution_count": null,
      "outputs": []
    }
  ]
}