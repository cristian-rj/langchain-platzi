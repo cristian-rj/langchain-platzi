{
 "cells": [
  {
   "cell_type": "markdown",
   "metadata": {
    "id": "6NIisvq2_YG0"
   },
   "source": [
    "## Hugging Face"
   ]
  },
  {
   "cell_type": "code",
   "execution_count": null,
   "metadata": {
    "id": "A0rsXMjt944C"
   },
   "outputs": [],
   "source": [
    "#%pip install --upgrade transformers langchain-huggingface"
   ]
  },
  {
   "cell_type": "code",
   "execution_count": 4,
   "metadata": {
    "id": "uP_NH4DR_WMi"
   },
   "outputs": [],
   "source": [
    "from langchain_huggingface.llms import HuggingFacePipeline\n",
    "\n",
    "hf = HuggingFacePipeline.from_model_id(\n",
    "    model_id=\"gpt2\",\n",
    "    task=\"text-generation\",\n",
    "    pipeline_kwargs={\"max_new_tokens\": 100},\n",
    ")"
   ]
  },
  {
   "cell_type": "code",
   "execution_count": null,
   "metadata": {
    "id": "ddH-Ut1s_cZq"
   },
   "outputs": [
    {
     "data": {
      "text/plain": [
       "'Dime que es huggingface? This is the first time I\\'ve seen that on an episode of the show.\" (TV Guide: \"The Secret Life of Pets,\" September 1996)\\n\\nThe dog known as Little Blue was the first known dog known as a special breed due to the similarity in its colors. In 1996, a magazine feature had the magazine stating that \"the dog (Sailor Red) was the last known dog to be called a dog\" (Dinner Dogs). The article referred to a dog named \"'"
      ]
     },
     "execution_count": 7,
     "metadata": {},
     "output_type": "execute_result"
    }
   ],
   "source": [
    "question = \"What is electroencephalography?\"\n",
    "hf.invoke(question)"
   ]
  }
 ],
 "metadata": {
  "colab": {
   "provenance": []
  },
  "kernelspec": {
   "display_name": "Python 3",
   "name": "python3"
  },
  "language_info": {
   "codemirror_mode": {
    "name": "ipython",
    "version": 3
   },
   "file_extension": ".py",
   "mimetype": "text/x-python",
   "name": "python",
   "nbconvert_exporter": "python",
   "pygments_lexer": "ipython3",
   "version": "3.11.9"
  }
 },
 "nbformat": 4,
 "nbformat_minor": 0
}
