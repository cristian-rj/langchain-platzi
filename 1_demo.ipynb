{
 "cells": [
  {
   "cell_type": "markdown",
   "metadata": {
    "id": "rkd1hgbr_FtB"
   },
   "source": [
    "# Conectar langchain con un LLM"
   ]
  },
  {
   "cell_type": "code",
   "execution_count": null,
   "metadata": {
    "colab": {
     "base_uri": "https://localhost:8080/"
    },
    "id": "iaXZU_KT3N3Q",
    "outputId": "38d7c7c7-68a0-43c1-e015-9b62312ff651"
   },
   "outputs": [],
   "source": [
    "import getpass\n",
    "import os\n",
    "\n",
    "os.environ[\"OPENAI_API_KEY\"] = getpass.getpass()"
   ]
  },
  {
   "cell_type": "markdown",
   "metadata": {
    "id": "mDofg2MhIY3B"
   },
   "source": [
    "# Conexión con un LLM"
   ]
  },
  {
   "cell_type": "code",
   "execution_count": null,
   "metadata": {
    "id": "EAWBNCei5PWh"
   },
   "outputs": [],
   "source": [
    "#!pip install --q langchain langchain_openai"
   ]
  },
  {
   "cell_type": "code",
   "execution_count": null,
   "metadata": {
    "id": "WUte0jFm5UKV"
   },
   "outputs": [],
   "source": [
    "from langchain_openai import ChatOpenAI\n",
    "\n",
    "chat = ChatOpenAI(model=\"gpt-4o\")"
   ]
  },
  {
   "cell_type": "code",
   "execution_count": null,
   "metadata": {
    "id": "Xzb6D2Qc5XsJ"
   },
   "outputs": [],
   "source": [
    "from langchain_core.messages import HumanMessage, SystemMessage\n",
    "\n",
    "question = '''Dame el nombre de la mejor plataforma de educación\n",
    "              tecnológica y empresarial en español de América\n",
    "              latina. Esta plataforma ofrece cursos\n",
    "              creados por expertos en cada área'''\n",
    "\n",
    "messages = [\n",
    "    SystemMessage(content=\"Usa emojis en la respuesta\"),\n",
    "    HumanMessage(content=question),\n",
    "]"
   ]
  },
  {
   "cell_type": "code",
   "execution_count": null,
   "metadata": {
    "colab": {
     "base_uri": "https://localhost:8080/"
    },
    "id": "HQPeMAmaAKmB",
    "outputId": "498034fb-5730-4678-d246-533c7694dae9"
   },
   "outputs": [],
   "source": [
    "print(chat.invoke(messages).content)"
   ]
  }
 ],
 "metadata": {
  "colab": {
   "provenance": []
  },
  "kernelspec": {
   "display_name": "Python 3",
   "name": "python3"
  },
  "language_info": {
   "codemirror_mode": {
    "name": "ipython",
    "version": 3
   },
   "file_extension": ".py",
   "mimetype": "text/x-python",
   "name": "python",
   "nbconvert_exporter": "python",
   "pygments_lexer": "ipython3",
   "version": "3.11.9"
  }
 },
 "nbformat": 4,
 "nbformat_minor": 0
}
