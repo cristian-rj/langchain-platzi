{
  "nbformat": 4,
  "nbformat_minor": 0,
  "metadata": {
    "colab": {
      "provenance": []
    },
    "kernelspec": {
      "name": "python3",
      "display_name": "Python 3"
    },
    "language_info": {
      "name": "python"
    }
  },
  "cells": [
    {
      "cell_type": "markdown",
      "source": [
        "# Tools"
      ],
      "metadata": {
        "id": "89nGzybPMhk1"
      }
    },
    {
      "cell_type": "code",
      "execution_count": null,
      "metadata": {
        "id": "8GwQM5GtMaEJ"
      },
      "outputs": [],
      "source": [
        "!pip install -qU langchain-openai langchain_community"
      ]
    },
    {
      "cell_type": "code",
      "source": [
        "import sqlite3\n",
        "\n",
        "import requests\n",
        "from langchain_community.utilities.sql_database import SQLDatabase\n",
        "from sqlalchemy import create_engine\n",
        "from sqlalchemy.pool import StaticPool\n",
        "\n",
        "\n",
        "def get_engine_for_chinook_db():\n",
        "    \"\"\"Pull sql file, populate in-memory database, and create engine.\"\"\"\n",
        "    url = \"https://raw.githubusercontent.com/lerocha/chinook-database/master/ChinookDatabase/DataSources/Chinook_Sqlite.sql\"\n",
        "    response = requests.get(url)\n",
        "    sql_script = response.text\n",
        "\n",
        "    connection = sqlite3.connect(\":memory:\", check_same_thread=False)\n",
        "    connection.executescript(sql_script)\n",
        "    return create_engine(\n",
        "        \"sqlite://\",\n",
        "        creator=lambda: connection,\n",
        "        poolclass=StaticPool,\n",
        "        connect_args={\"check_same_thread\": False},\n",
        "    )\n",
        "\n",
        "\n",
        "engine = get_engine_for_chinook_db()\n",
        "\n",
        "db = SQLDatabase(engine)"
      ],
      "metadata": {
        "id": "37hCgFuhMjwK"
      },
      "execution_count": null,
      "outputs": []
    },
    {
      "cell_type": "code",
      "source": [
        "from langchain_openai import ChatOpenAI\n",
        "\n",
        "llm = ChatOpenAI(model='gpt-4o',\n",
        "                 temperature=0,\n",
        "                 max_tokens = 100)"
      ],
      "metadata": {
        "id": "pdozWbUcMlhs"
      },
      "execution_count": null,
      "outputs": []
    },
    {
      "cell_type": "code",
      "source": [
        "from langchain_community.agent_toolkits.sql.toolkit import SQLDatabaseToolkit\n",
        "\n",
        "toolkit = SQLDatabaseToolkit(db=db, llm=llm)"
      ],
      "metadata": {
        "id": "WmfLGBTAMnIg"
      },
      "execution_count": null,
      "outputs": []
    }
  ]
}